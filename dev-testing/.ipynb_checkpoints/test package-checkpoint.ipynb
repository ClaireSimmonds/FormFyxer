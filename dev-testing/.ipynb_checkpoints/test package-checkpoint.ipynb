{
 "cells": [
  {
   "cell_type": "code",
   "execution_count": 1,
   "id": "10339cb6",
   "metadata": {},
   "outputs": [],
   "source": [
    "import sys\n",
    "sys.path.insert(0, '../../formfyxer')\n",
    "import formfyxer.lit_explorer as ff"
   ]
  },
  {
   "cell_type": "code",
   "execution_count": 10,
   "id": "cba69e39",
   "metadata": {
    "scrolled": true
   },
   "outputs": [
    {
     "name": "stdout",
     "output_type": "stream",
     "text": [
      "Collecting git+https://github.com/SuffolkLITLab/FormFyxer\n",
      "  Cloning https://github.com/SuffolkLITLab/FormFyxer to c:\\users\\dcolarusso\\appdata\\local\\temp\\pip-req-build-_dqvoop1\n",
      "Requirement already satisfied: spacy in c:\\users\\dcolarusso\\appdata\\local\\continuum\\anaconda3\\envs\\nlp-2020-01-07\\lib\\site-packages (from formfyxer==0.0.1) (2.2.3)\n",
      "Requirement already satisfied: PyPDF2 in c:\\users\\dcolarusso\\appdata\\local\\continuum\\anaconda3\\envs\\nlp-2020-01-07\\lib\\site-packages (from formfyxer==0.0.1) (1.26.0)\n",
      "Requirement already satisfied: pikepdf in c:\\users\\dcolarusso\\appdata\\local\\continuum\\anaconda3\\envs\\nlp-2020-01-07\\lib\\site-packages (from formfyxer==0.0.1) (4.0.2)\n",
      "Requirement already satisfied: textstat in c:\\users\\dcolarusso\\appdata\\local\\continuum\\anaconda3\\envs\\nlp-2020-01-07\\lib\\site-packages (from formfyxer==0.0.1) (0.7.2)\n",
      "Requirement already satisfied: requests in c:\\users\\dcolarusso\\appdata\\local\\continuum\\anaconda3\\envs\\nlp-2020-01-07\\lib\\site-packages (from formfyxer==0.0.1) (2.22.0)\n",
      "Requirement already satisfied: numpy in c:\\users\\dcolarusso\\appdata\\local\\continuum\\anaconda3\\envs\\nlp-2020-01-07\\lib\\site-packages (from formfyxer==0.0.1) (1.17.4)\n",
      "Requirement already satisfied: sklearn in c:\\users\\dcolarusso\\appdata\\local\\continuum\\anaconda3\\envs\\nlp-2020-01-07\\lib\\site-packages (from formfyxer==0.0.1) (0.0)\n",
      "Requirement already satisfied: joblib in c:\\users\\dcolarusso\\appdata\\local\\continuum\\anaconda3\\envs\\nlp-2020-01-07\\lib\\site-packages (from formfyxer==0.0.1) (0.14.1)\n",
      "Requirement already satisfied: nltk in c:\\users\\dcolarusso\\appdata\\local\\continuum\\anaconda3\\envs\\nlp-2020-01-07\\lib\\site-packages (from formfyxer==0.0.1) (3.6.5)\n",
      "Requirement already satisfied: preshed<3.1.0,>=3.0.2 in c:\\users\\dcolarusso\\appdata\\local\\continuum\\anaconda3\\envs\\nlp-2020-01-07\\lib\\site-packages (from spacy->formfyxer==0.0.1) (3.0.2)\n",
      "Requirement already satisfied: wasabi<1.1.0,>=0.4.0 in c:\\users\\dcolarusso\\appdata\\local\\continuum\\anaconda3\\envs\\nlp-2020-01-07\\lib\\site-packages (from spacy->formfyxer==0.0.1) (0.6.0)\n",
      "Requirement already satisfied: srsly<1.1.0,>=0.1.0 in c:\\users\\dcolarusso\\appdata\\local\\continuum\\anaconda3\\envs\\nlp-2020-01-07\\lib\\site-packages (from spacy->formfyxer==0.0.1) (1.0.1)\n",
      "Requirement already satisfied: plac<1.2.0,>=0.9.6 in c:\\users\\dcolarusso\\appdata\\local\\continuum\\anaconda3\\envs\\nlp-2020-01-07\\lib\\site-packages (from spacy->formfyxer==0.0.1) (1.1.3)\n",
      "Requirement already satisfied: murmurhash<1.1.0,>=0.28.0 in c:\\users\\dcolarusso\\appdata\\local\\continuum\\anaconda3\\envs\\nlp-2020-01-07\\lib\\site-packages (from spacy->formfyxer==0.0.1) (1.0.2)\n",
      "Requirement already satisfied: blis<0.5.0,>=0.4.0 in c:\\users\\dcolarusso\\appdata\\local\\continuum\\anaconda3\\envs\\nlp-2020-01-07\\lib\\site-packages (from spacy->formfyxer==0.0.1) (0.4.1)\n",
      "Requirement already satisfied: setuptools in c:\\users\\dcolarusso\\appdata\\local\\continuum\\anaconda3\\envs\\nlp-2020-01-07\\lib\\site-packages (from spacy->formfyxer==0.0.1) (44.0.0.post20200106)\n",
      "Requirement already satisfied: thinc<7.4.0,>=7.3.0 in c:\\users\\dcolarusso\\appdata\\local\\continuum\\anaconda3\\envs\\nlp-2020-01-07\\lib\\site-packages (from spacy->formfyxer==0.0.1) (7.3.1)\n",
      "Requirement already satisfied: cymem<2.1.0,>=2.0.2 in c:\\users\\dcolarusso\\appdata\\local\\continuum\\anaconda3\\envs\\nlp-2020-01-07\\lib\\site-packages (from spacy->formfyxer==0.0.1) (2.0.3)\n",
      "Requirement already satisfied: catalogue<1.1.0,>=0.0.7 in c:\\users\\dcolarusso\\appdata\\local\\continuum\\anaconda3\\envs\\nlp-2020-01-07\\lib\\site-packages (from spacy->formfyxer==0.0.1) (0.2.0)\n",
      "Requirement already satisfied: lxml>=4.0 in c:\\users\\dcolarusso\\appdata\\local\\continuum\\anaconda3\\envs\\nlp-2020-01-07\\lib\\site-packages (from pikepdf->formfyxer==0.0.1) (4.6.2)\n",
      "Requirement already satisfied: Pillow>=6.0 in c:\\users\\dcolarusso\\appdata\\local\\continuum\\anaconda3\\envs\\nlp-2020-01-07\\lib\\site-packages (from pikepdf->formfyxer==0.0.1) (7.0.0)\n",
      "Requirement already satisfied: pyphen in c:\\users\\dcolarusso\\appdata\\local\\continuum\\anaconda3\\envs\\nlp-2020-01-07\\lib\\site-packages (from textstat->formfyxer==0.0.1) (0.11.0)\n",
      "Requirement already satisfied: idna<2.9,>=2.5 in c:\\users\\dcolarusso\\appdata\\local\\continuum\\anaconda3\\envs\\nlp-2020-01-07\\lib\\site-packages (from requests->formfyxer==0.0.1) (2.8)\n",
      "Requirement already satisfied: certifi>=2017.4.17 in c:\\users\\dcolarusso\\appdata\\local\\continuum\\anaconda3\\envs\\nlp-2020-01-07\\lib\\site-packages (from requests->formfyxer==0.0.1) (2021.10.8)\n",
      "Requirement already satisfied: urllib3!=1.25.0,!=1.25.1,<1.26,>=1.21.1 in c:\\users\\dcolarusso\\appdata\\local\\continuum\\anaconda3\\envs\\nlp-2020-01-07\\lib\\site-packages (from requests->formfyxer==0.0.1) (1.25.11)\n",
      "Requirement already satisfied: chardet<3.1.0,>=3.0.2 in c:\\users\\dcolarusso\\appdata\\local\\continuum\\anaconda3\\envs\\nlp-2020-01-07\\lib\\site-packages (from requests->formfyxer==0.0.1) (3.0.4)\n",
      "Requirement already satisfied: scikit-learn in c:\\users\\dcolarusso\\appdata\\local\\continuum\\anaconda3\\envs\\nlp-2020-01-07\\lib\\site-packages (from sklearn->formfyxer==0.0.1) (0.22)\n",
      "Requirement already satisfied: regex>=2021.8.3 in c:\\users\\dcolarusso\\appdata\\local\\continuum\\anaconda3\\envs\\nlp-2020-01-07\\lib\\site-packages (from nltk->formfyxer==0.0.1) (2021.10.23)\n",
      "Requirement already satisfied: click in c:\\users\\dcolarusso\\appdata\\local\\continuum\\anaconda3\\envs\\nlp-2020-01-07\\lib\\site-packages (from nltk->formfyxer==0.0.1) (7.0)\n",
      "Requirement already satisfied: tqdm in c:\\users\\dcolarusso\\appdata\\local\\continuum\\anaconda3\\envs\\nlp-2020-01-07\\lib\\site-packages (from nltk->formfyxer==0.0.1) (4.62.3)\n",
      "Requirement already satisfied: importlib-metadata>=0.20; python_version < \"3.8\" in c:\\users\\dcolarusso\\appdata\\local\\continuum\\anaconda3\\envs\\nlp-2020-01-07\\lib\\site-packages (from catalogue<1.1.0,>=0.0.7->spacy->formfyxer==0.0.1) (4.8.1)\n",
      "Requirement already satisfied: scipy>=0.17.0 in c:\\users\\dcolarusso\\appdata\\local\\continuum\\anaconda3\\envs\\nlp-2020-01-07\\lib\\site-packages (from scikit-learn->sklearn->formfyxer==0.0.1) (1.3.2)\n",
      "Requirement already satisfied: colorama; platform_system == \"Windows\" in c:\\users\\dcolarusso\\appdata\\local\\continuum\\anaconda3\\envs\\nlp-2020-01-07\\lib\\site-packages (from tqdm->nltk->formfyxer==0.0.1) (0.4.3)\n",
      "Requirement already satisfied: zipp>=0.5 in c:\\users\\dcolarusso\\appdata\\local\\continuum\\anaconda3\\envs\\nlp-2020-01-07\\lib\\site-packages (from importlib-metadata>=0.20; python_version < \"3.8\"->catalogue<1.1.0,>=0.0.7->spacy->formfyxer==0.0.1) (0.6.0)\n",
      "Requirement already satisfied: typing-extensions>=3.6.4; python_version < \"3.8\" in c:\\users\\dcolarusso\\appdata\\local\\continuum\\anaconda3\\envs\\nlp-2020-01-07\\lib\\site-packages (from importlib-metadata>=0.20; python_version < \"3.8\"->catalogue<1.1.0,>=0.0.7->spacy->formfyxer==0.0.1) (3.10.0.2)\n",
      "Requirement already satisfied: more-itertools in c:\\users\\dcolarusso\\appdata\\local\\continuum\\anaconda3\\envs\\nlp-2020-01-07\\lib\\site-packages (from zipp>=0.5->importlib-metadata>=0.20; python_version < \"3.8\"->catalogue<1.1.0,>=0.0.7->spacy->formfyxer==0.0.1) (8.0.2)\n",
      "Building wheels for collected packages: formfyxer\n",
      "  Building wheel for formfyxer (setup.py): started\n",
      "  Building wheel for formfyxer (setup.py): finished with status 'done'\n",
      "  Created wheel for formfyxer: filename=formfyxer-0.0.1-cp37-none-any.whl size=50528 sha256=f775968a2ac2dbda4933f7418607c4ffce1d719ab410f1f4d6fd494905603d28\n",
      "  Stored in directory: C:\\Users\\dcolarusso\\AppData\\Local\\Temp\\pip-ephem-wheel-cache-v0u6bmv2\\wheels\\0e\\73\\e9\\895f1439c1eb4f9887686718aee9b1caf6c307fb3d5e077787\n",
      "Successfully built formfyxer\n",
      "Installing collected packages: formfyxer\n",
      "  Found existing installation: formfyxer 0.0.0\n",
      "    Uninstalling formfyxer-0.0.0:\n",
      "      Successfully uninstalled formfyxer-0.0.0\n",
      "Successfully installed formfyxer-0.0.1\n"
     ]
    },
    {
     "name": "stderr",
     "output_type": "stream",
     "text": [
      "  Running command git clone -q https://github.com/SuffolkLITLab/FormFyxer 'C:\\Users\\dcolarusso\\AppData\\Local\\Temp\\pip-req-build-_dqvoop1'\n"
     ]
    }
   ],
   "source": [
    "!pip install git+https://github.com/SuffolkLITLab/FormFyxer"
   ]
  },
  {
   "cell_type": "code",
   "execution_count": 1,
   "id": "49f405bd",
   "metadata": {},
   "outputs": [
    {
     "name": "stderr",
     "output_type": "stream",
     "text": [
      "C:\\Users\\dcolarusso\\AppData\\Local\\Continuum\\anaconda3\\envs\\NLP-2020-01-07\\lib\\site-packages\\sklearn\\base.py:318: UserWarning: Trying to unpickle estimator DecisionTreeClassifier from version 0.24.1 when using version 0.22. This might lead to breaking code or invalid results. Use at your own risk.\n",
      "  UserWarning)\n",
      "C:\\Users\\dcolarusso\\AppData\\Local\\Continuum\\anaconda3\\envs\\NLP-2020-01-07\\lib\\site-packages\\sklearn\\base.py:318: UserWarning: Trying to unpickle estimator RandomForestClassifier from version 0.24.1 when using version 0.22. This might lead to breaking code or invalid results. Use at your own risk.\n",
      "  UserWarning)\n"
     ]
    }
   ],
   "source": [
    "import formfyxer as ff"
   ]
  },
  {
   "cell_type": "code",
   "execution_count": 2,
   "id": "f1524626",
   "metadata": {},
   "outputs": [
    {
     "data": {
      "text/plain": [
       "'Reformat snake case, camel Case and similarly formated text into individual words.'"
      ]
     },
     "execution_count": 2,
     "metadata": {},
     "output_type": "execute_result"
    }
   ],
   "source": [
    "ff.reCase(\"Reformat snake_case, camelCase and similarly-formated text into individual words.\")"
   ]
  },
  {
   "cell_type": "code",
   "execution_count": 3,
   "id": "45ee2f7d",
   "metadata": {},
   "outputs": [
    {
     "data": {
      "text/plain": [
       "'users1_name'"
      ]
     },
     "execution_count": 3,
     "metadata": {},
     "output_type": "execute_result"
    }
   ],
   "source": [
    "ff.regex_norm_field(\"your name\")"
   ]
  },
  {
   "cell_type": "code",
   "execution_count": 4,
   "id": "8d056f9c",
   "metadata": {},
   "outputs": [
    {
     "data": {
      "text/plain": [
       "'variable_fill_name'"
      ]
     },
     "execution_count": 4,
     "metadata": {},
     "output_type": "execute_result"
    }
   ],
   "source": [
    "ff.reformat_field(\"this is a variable where you fill out your name\")"
   ]
  },
  {
   "cell_type": "code",
   "execution_count": 5,
   "id": "6bd4f593",
   "metadata": {},
   "outputs": [
    {
     "data": {
      "text/plain": [
       "('*docket_number', 1.0)"
      ]
     },
     "execution_count": 5,
     "metadata": {},
     "output_type": "execute_result"
    }
   ],
   "source": [
    "ff.normalize_name(\"UT\",None,2,0.3,\"null\",\"Case Number\")"
   ]
  },
  {
   "cell_type": "code",
   "execution_count": 6,
   "id": "98d71551",
   "metadata": {},
   "outputs": [
    {
     "data": {
      "text/plain": [
       "\"FOC 78 \\n (3/11) \\n OBJECTION TO PROPOSED ORDERMCR 2. 602 (B) Approved, SCAOSTATE OF MICHIGANCASE NO. \\n JUDICIAL CIRCUITCOUNTYCourt address\\n Court telephone no. \\n Original - Court 1 st copy - Moving party\\n 2 nd copy - Objecting party 3 rd copy - Friend of the court 4 th copy - Proof of service\\n 5 th copy - Proof of service Plaintiff's name, address, and telephone no. moving party\\n Defendant's name, address, and telephone no. moving party\\n v OBJECTION TO PROPOSED ORDERI received a notice to enter a proposed order without a hearing dated\\n I object to the entry of the proposed order and request a hearing by the court. My objection is based on the following reason (\\n s) : CERTIFICATE OF MAILINGI certify that on this date I served a copy of this objection on the parties or their attorneys by first class mail addressed to theirlast known addresses as defined in MCR 3. 203. Name (type or print) Date Moving party's signature Signature of objecting party Date Third party's name, address, and telephone no. moving party\\n ABDEFC\""
      ]
     },
     "execution_count": 6,
     "metadata": {},
     "output_type": "execute_result"
    }
   ],
   "source": [
    "ff.read_pdf(\"ML_training/auto/095b9dc651ce47eb8b62e0790974970f.pdf\")"
   ]
  },
  {
   "cell_type": "code",
   "execution_count": 7,
   "id": "eb52b221",
   "metadata": {},
   "outputs": [
    {
     "data": {
      "text/plain": [
       "[]"
      ]
     },
     "execution_count": 7,
     "metadata": {},
     "output_type": "execute_result"
    }
   ],
   "source": [
    "ff.spot(\"my landlord kicked me out\",verbose=0)"
   ]
  },
  {
   "cell_type": "code",
   "execution_count": 8,
   "id": "36f0c2f8",
   "metadata": {
    "scrolled": true
   },
   "outputs": [
    {
     "data": {
      "text/plain": [
       "{'title': 'FOC 78',\n",
       " 'category': None,\n",
       " 'pages': 1,\n",
       " 'reading grade level': 10.5,\n",
       " 'list': [],\n",
       " 'avg fields per page': 18.0,\n",
       " 'fields': ['moving_party__1',\n",
       "  'moving_party__2',\n",
       "  'moving_party__3',\n",
       "  '*signature_date__1',\n",
       "  'name_type_print',\n",
       "  '*signature_date__2',\n",
       "  '*docket_number',\n",
       "  'judge',\n",
       "  'circuit',\n",
       "  'county',\n",
       "  '*users1_address_line_one',\n",
       "  'telno',\n",
       "  'plaintiffs_name_address_telephone',\n",
       "  'defendants_name_address_telephone',\n",
       "  'third_partys_name_address_telephone',\n",
       "  'dated',\n",
       "  'reasons',\n",
       "  'form_instructions'],\n",
       " 'fields_conf': [0.53,\n",
       "  0.56,\n",
       "  0.55,\n",
       "  1.0,\n",
       "  0.62,\n",
       "  1.0,\n",
       "  1.0,\n",
       "  0.68,\n",
       "  0.58,\n",
       "  0.64,\n",
       "  1.0,\n",
       "  0.97,\n",
       "  0.52,\n",
       "  0.55,\n",
       "  0.48,\n",
       "  0.55,\n",
       "  0.53,\n",
       "  0.61],\n",
       " 'fields_old': ['moving party',\n",
       "  'moving party_2',\n",
       "  'moving party_3',\n",
       "  'Date',\n",
       "  'Name type or print',\n",
       "  'Date_2',\n",
       "  'CASE NO',\n",
       "  'judge',\n",
       "  'circuit',\n",
       "  'county',\n",
       "  'address',\n",
       "  'telno',\n",
       "  'Plaintiffs name address and telephone',\n",
       "  'Defendants name address and telephone',\n",
       "  'Third partys name address and telephone',\n",
       "  'dated',\n",
       "  'reasons',\n",
       "  'Form Instructions'],\n",
       " 'text': \"FOC 78 . (3/11) . OBJECTION TO PROPOSED ORDERMCR 2. 602 (B) Approved, SCAOSTATE OF MICHIGANCASE NO. . JUDICIAL CIRCUITCOUNTYCourt address. Court telephone no. . Original - Court 1 st copy - Moving party. 2 nd copy - Objecting party 3 rd copy - Friend of the court 4 th copy - Proof of service. 5 th copy - Proof of service Plaintiff's name, address, and telephone no. moving party. Defendant's name, address, and telephone no. moving party. v OBJECTION TO PROPOSED ORDERI received a notice to enter a proposed order without a hearing dated. I object to the entry of the proposed order and request a hearing by the court. My objection is based on the following reason (. s) : CERTIFICATE OF MAILINGI certify that on this date I served a copy of this objection on the parties or their attorneys by first class mail addressed to theirlast known addresses as defined in MCR 3. 203. Name (type or print) Date Moving party's signature Signature of objecting party Date Third party's name, address, and telephone no. moving party. ABDEFC\"}"
      ]
     },
     "execution_count": 8,
     "metadata": {},
     "output_type": "execute_result"
    }
   ],
   "source": [
    "stats = ff.parse_form(\"ML_training/auto/095b9dc651ce47eb8b62e0790974970f.pdf\",title=None,jur=\"UT\",cat=None,normalize=1,use_spot=0,rewrite=0)\n",
    "stats"
   ]
  },
  {
   "cell_type": "code",
   "execution_count": 9,
   "id": "77fe2d8a",
   "metadata": {},
   "outputs": [
    {
     "data": {
      "text/plain": [
       "{'screen_0': ['users1_name',\n",
       "  'users1_birthdate',\n",
       "  'users1_address_line_one',\n",
       "  'users1_address_line_two',\n",
       "  'users1_address_city',\n",
       "  'users1_address_state',\n",
       "  'users1_address_zip',\n",
       "  'users1_phone_number',\n",
       "  'users1_email',\n",
       "  'users1_signature'],\n",
       " 'screen_1': ['plantiffs1_name',\n",
       "  'defendants1_name',\n",
       "  'petitioners1_name',\n",
       "  'respondents1_name'],\n",
       " 'screen_2': ['docket_number'],\n",
       " 'screen_3': ['trial_court_county'],\n",
       " 'screen_4': ['signature_date']}"
      ]
     },
     "execution_count": 9,
     "metadata": {},
     "output_type": "execute_result"
    }
   ],
   "source": [
    "fields= [\n",
    "        \"users1_name\",\n",
    "        \"users1_birthdate\",\n",
    "        \"users1_address_line_one\",\n",
    "        \"users1_address_line_two\",\n",
    "        \"users1_address_city\",\n",
    "        \"users1_address_state\",\n",
    "        \"users1_address_zip\",\n",
    "        \"users1_phone_number\",\n",
    "        \"users1_email\",\n",
    "        \"plantiffs1_name\",\n",
    "        \"defendants1_name\",\n",
    "        \"petitioners1_name\",\n",
    "        \"respondents1_name\",\n",
    "        \"docket_number\",\n",
    "        \"trial_court_county\",\n",
    "        \"users1_signature\",\n",
    "        \"signature_date\"\n",
    "        ]\n",
    "\n",
    "\n",
    "ff.cluster_screens(fields,damping=0.7)"
   ]
  },
  {
   "cell_type": "code",
   "execution_count": null,
   "id": "691429b5",
   "metadata": {},
   "outputs": [],
   "source": []
  }
 ],
 "metadata": {
  "kernelspec": {
   "display_name": "Python 3 (ipykernel)",
   "language": "python",
   "name": "python3"
  },
  "language_info": {
   "codemirror_mode": {
    "name": "ipython",
    "version": 3
   },
   "file_extension": ".py",
   "mimetype": "text/x-python",
   "name": "python",
   "nbconvert_exporter": "python",
   "pygments_lexer": "ipython3",
   "version": "3.8.12"
  }
 },
 "nbformat": 4,
 "nbformat_minor": 5
}
