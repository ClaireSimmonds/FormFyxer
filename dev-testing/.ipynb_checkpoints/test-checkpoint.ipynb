{
 "cells": [
  {
   "cell_type": "code",
   "execution_count": 10,
   "metadata": {
    "scrolled": true
   },
   "outputs": [
    {
     "name": "stdout",
     "output_type": "stream",
     "text": [
      "Collecting git+https://github.com/SuffolkLITLab/FormFyxer\n",
      "  Cloning https://github.com/SuffolkLITLab/FormFyxer to c:\\users\\dcolarusso\\appdata\\local\\temp\\pip-req-build-_dqvoop1\n",
      "Requirement already satisfied: spacy in c:\\users\\dcolarusso\\appdata\\local\\continuum\\anaconda3\\envs\\nlp-2020-01-07\\lib\\site-packages (from formfyxer==0.0.1) (2.2.3)\n",
      "Requirement already satisfied: PyPDF2 in c:\\users\\dcolarusso\\appdata\\local\\continuum\\anaconda3\\envs\\nlp-2020-01-07\\lib\\site-packages (from formfyxer==0.0.1) (1.26.0)\n",
      "Requirement already satisfied: pikepdf in c:\\users\\dcolarusso\\appdata\\local\\continuum\\anaconda3\\envs\\nlp-2020-01-07\\lib\\site-packages (from formfyxer==0.0.1) (4.0.2)\n",
      "Requirement already satisfied: textstat in c:\\users\\dcolarusso\\appdata\\local\\continuum\\anaconda3\\envs\\nlp-2020-01-07\\lib\\site-packages (from formfyxer==0.0.1) (0.7.2)\n",
      "Requirement already satisfied: requests in c:\\users\\dcolarusso\\appdata\\local\\continuum\\anaconda3\\envs\\nlp-2020-01-07\\lib\\site-packages (from formfyxer==0.0.1) (2.22.0)\n",
      "Requirement already satisfied: numpy in c:\\users\\dcolarusso\\appdata\\local\\continuum\\anaconda3\\envs\\nlp-2020-01-07\\lib\\site-packages (from formfyxer==0.0.1) (1.17.4)\n",
      "Requirement already satisfied: sklearn in c:\\users\\dcolarusso\\appdata\\local\\continuum\\anaconda3\\envs\\nlp-2020-01-07\\lib\\site-packages (from formfyxer==0.0.1) (0.0)\n",
      "Requirement already satisfied: joblib in c:\\users\\dcolarusso\\appdata\\local\\continuum\\anaconda3\\envs\\nlp-2020-01-07\\lib\\site-packages (from formfyxer==0.0.1) (0.14.1)\n",
      "Requirement already satisfied: nltk in c:\\users\\dcolarusso\\appdata\\local\\continuum\\anaconda3\\envs\\nlp-2020-01-07\\lib\\site-packages (from formfyxer==0.0.1) (3.6.5)\n",
      "Requirement already satisfied: preshed<3.1.0,>=3.0.2 in c:\\users\\dcolarusso\\appdata\\local\\continuum\\anaconda3\\envs\\nlp-2020-01-07\\lib\\site-packages (from spacy->formfyxer==0.0.1) (3.0.2)\n",
      "Requirement already satisfied: wasabi<1.1.0,>=0.4.0 in c:\\users\\dcolarusso\\appdata\\local\\continuum\\anaconda3\\envs\\nlp-2020-01-07\\lib\\site-packages (from spacy->formfyxer==0.0.1) (0.6.0)\n",
      "Requirement already satisfied: srsly<1.1.0,>=0.1.0 in c:\\users\\dcolarusso\\appdata\\local\\continuum\\anaconda3\\envs\\nlp-2020-01-07\\lib\\site-packages (from spacy->formfyxer==0.0.1) (1.0.1)\n",
      "Requirement already satisfied: plac<1.2.0,>=0.9.6 in c:\\users\\dcolarusso\\appdata\\local\\continuum\\anaconda3\\envs\\nlp-2020-01-07\\lib\\site-packages (from spacy->formfyxer==0.0.1) (1.1.3)\n",
      "Requirement already satisfied: murmurhash<1.1.0,>=0.28.0 in c:\\users\\dcolarusso\\appdata\\local\\continuum\\anaconda3\\envs\\nlp-2020-01-07\\lib\\site-packages (from spacy->formfyxer==0.0.1) (1.0.2)\n",
      "Requirement already satisfied: blis<0.5.0,>=0.4.0 in c:\\users\\dcolarusso\\appdata\\local\\continuum\\anaconda3\\envs\\nlp-2020-01-07\\lib\\site-packages (from spacy->formfyxer==0.0.1) (0.4.1)\n",
      "Requirement already satisfied: setuptools in c:\\users\\dcolarusso\\appdata\\local\\continuum\\anaconda3\\envs\\nlp-2020-01-07\\lib\\site-packages (from spacy->formfyxer==0.0.1) (44.0.0.post20200106)\n",
      "Requirement already satisfied: thinc<7.4.0,>=7.3.0 in c:\\users\\dcolarusso\\appdata\\local\\continuum\\anaconda3\\envs\\nlp-2020-01-07\\lib\\site-packages (from spacy->formfyxer==0.0.1) (7.3.1)\n",
      "Requirement already satisfied: cymem<2.1.0,>=2.0.2 in c:\\users\\dcolarusso\\appdata\\local\\continuum\\anaconda3\\envs\\nlp-2020-01-07\\lib\\site-packages (from spacy->formfyxer==0.0.1) (2.0.3)\n",
      "Requirement already satisfied: catalogue<1.1.0,>=0.0.7 in c:\\users\\dcolarusso\\appdata\\local\\continuum\\anaconda3\\envs\\nlp-2020-01-07\\lib\\site-packages (from spacy->formfyxer==0.0.1) (0.2.0)\n",
      "Requirement already satisfied: lxml>=4.0 in c:\\users\\dcolarusso\\appdata\\local\\continuum\\anaconda3\\envs\\nlp-2020-01-07\\lib\\site-packages (from pikepdf->formfyxer==0.0.1) (4.6.2)\n",
      "Requirement already satisfied: Pillow>=6.0 in c:\\users\\dcolarusso\\appdata\\local\\continuum\\anaconda3\\envs\\nlp-2020-01-07\\lib\\site-packages (from pikepdf->formfyxer==0.0.1) (7.0.0)\n",
      "Requirement already satisfied: pyphen in c:\\users\\dcolarusso\\appdata\\local\\continuum\\anaconda3\\envs\\nlp-2020-01-07\\lib\\site-packages (from textstat->formfyxer==0.0.1) (0.11.0)\n",
      "Requirement already satisfied: idna<2.9,>=2.5 in c:\\users\\dcolarusso\\appdata\\local\\continuum\\anaconda3\\envs\\nlp-2020-01-07\\lib\\site-packages (from requests->formfyxer==0.0.1) (2.8)\n",
      "Requirement already satisfied: certifi>=2017.4.17 in c:\\users\\dcolarusso\\appdata\\local\\continuum\\anaconda3\\envs\\nlp-2020-01-07\\lib\\site-packages (from requests->formfyxer==0.0.1) (2021.10.8)\n",
      "Requirement already satisfied: urllib3!=1.25.0,!=1.25.1,<1.26,>=1.21.1 in c:\\users\\dcolarusso\\appdata\\local\\continuum\\anaconda3\\envs\\nlp-2020-01-07\\lib\\site-packages (from requests->formfyxer==0.0.1) (1.25.11)\n",
      "Requirement already satisfied: chardet<3.1.0,>=3.0.2 in c:\\users\\dcolarusso\\appdata\\local\\continuum\\anaconda3\\envs\\nlp-2020-01-07\\lib\\site-packages (from requests->formfyxer==0.0.1) (3.0.4)\n",
      "Requirement already satisfied: scikit-learn in c:\\users\\dcolarusso\\appdata\\local\\continuum\\anaconda3\\envs\\nlp-2020-01-07\\lib\\site-packages (from sklearn->formfyxer==0.0.1) (0.22)\n",
      "Requirement already satisfied: regex>=2021.8.3 in c:\\users\\dcolarusso\\appdata\\local\\continuum\\anaconda3\\envs\\nlp-2020-01-07\\lib\\site-packages (from nltk->formfyxer==0.0.1) (2021.10.23)\n",
      "Requirement already satisfied: click in c:\\users\\dcolarusso\\appdata\\local\\continuum\\anaconda3\\envs\\nlp-2020-01-07\\lib\\site-packages (from nltk->formfyxer==0.0.1) (7.0)\n",
      "Requirement already satisfied: tqdm in c:\\users\\dcolarusso\\appdata\\local\\continuum\\anaconda3\\envs\\nlp-2020-01-07\\lib\\site-packages (from nltk->formfyxer==0.0.1) (4.62.3)\n",
      "Requirement already satisfied: importlib-metadata>=0.20; python_version < \"3.8\" in c:\\users\\dcolarusso\\appdata\\local\\continuum\\anaconda3\\envs\\nlp-2020-01-07\\lib\\site-packages (from catalogue<1.1.0,>=0.0.7->spacy->formfyxer==0.0.1) (4.8.1)\n",
      "Requirement already satisfied: scipy>=0.17.0 in c:\\users\\dcolarusso\\appdata\\local\\continuum\\anaconda3\\envs\\nlp-2020-01-07\\lib\\site-packages (from scikit-learn->sklearn->formfyxer==0.0.1) (1.3.2)\n",
      "Requirement already satisfied: colorama; platform_system == \"Windows\" in c:\\users\\dcolarusso\\appdata\\local\\continuum\\anaconda3\\envs\\nlp-2020-01-07\\lib\\site-packages (from tqdm->nltk->formfyxer==0.0.1) (0.4.3)\n",
      "Requirement already satisfied: zipp>=0.5 in c:\\users\\dcolarusso\\appdata\\local\\continuum\\anaconda3\\envs\\nlp-2020-01-07\\lib\\site-packages (from importlib-metadata>=0.20; python_version < \"3.8\"->catalogue<1.1.0,>=0.0.7->spacy->formfyxer==0.0.1) (0.6.0)\n",
      "Requirement already satisfied: typing-extensions>=3.6.4; python_version < \"3.8\" in c:\\users\\dcolarusso\\appdata\\local\\continuum\\anaconda3\\envs\\nlp-2020-01-07\\lib\\site-packages (from importlib-metadata>=0.20; python_version < \"3.8\"->catalogue<1.1.0,>=0.0.7->spacy->formfyxer==0.0.1) (3.10.0.2)\n",
      "Requirement already satisfied: more-itertools in c:\\users\\dcolarusso\\appdata\\local\\continuum\\anaconda3\\envs\\nlp-2020-01-07\\lib\\site-packages (from zipp>=0.5->importlib-metadata>=0.20; python_version < \"3.8\"->catalogue<1.1.0,>=0.0.7->spacy->formfyxer==0.0.1) (8.0.2)\n",
      "Building wheels for collected packages: formfyxer\n",
      "  Building wheel for formfyxer (setup.py): started\n",
      "  Building wheel for formfyxer (setup.py): finished with status 'done'\n",
      "  Created wheel for formfyxer: filename=formfyxer-0.0.1-cp37-none-any.whl size=50528 sha256=f775968a2ac2dbda4933f7418607c4ffce1d719ab410f1f4d6fd494905603d28\n",
      "  Stored in directory: C:\\Users\\dcolarusso\\AppData\\Local\\Temp\\pip-ephem-wheel-cache-v0u6bmv2\\wheels\\0e\\73\\e9\\895f1439c1eb4f9887686718aee9b1caf6c307fb3d5e077787\n",
      "Successfully built formfyxer\n",
      "Installing collected packages: formfyxer\n",
      "  Found existing installation: formfyxer 0.0.0\n",
      "    Uninstalling formfyxer-0.0.0:\n",
      "      Successfully uninstalled formfyxer-0.0.0\n",
      "Successfully installed formfyxer-0.0.1\n"
     ]
    },
    {
     "name": "stderr",
     "output_type": "stream",
     "text": [
      "  Running command git clone -q https://github.com/SuffolkLITLab/FormFyxer 'C:\\Users\\dcolarusso\\AppData\\Local\\Temp\\pip-req-build-_dqvoop1'\n"
     ]
    }
   ],
   "source": [
    "!pip install git+https://github.com/SuffolkLITLab/FormFyxer"
   ]
  },
  {
   "cell_type": "code",
   "execution_count": 1,
   "metadata": {},
   "outputs": [
    {
     "name": "stderr",
     "output_type": "stream",
     "text": [
      "C:\\Users\\dcolarusso\\AppData\\Local\\Continuum\\anaconda3\\envs\\NLP-2020-01-07\\lib\\site-packages\\sklearn\\base.py:318: UserWarning: Trying to unpickle estimator DecisionTreeClassifier from version 0.24.1 when using version 0.22. This might lead to breaking code or invalid results. Use at your own risk.\n",
      "  UserWarning)\n",
      "C:\\Users\\dcolarusso\\AppData\\Local\\Continuum\\anaconda3\\envs\\NLP-2020-01-07\\lib\\site-packages\\sklearn\\base.py:318: UserWarning: Trying to unpickle estimator RandomForestClassifier from version 0.24.1 when using version 0.22. This might lead to breaking code or invalid results. Use at your own risk.\n",
      "  UserWarning)\n"
     ]
    }
   ],
   "source": [
    "import formfyxer as ff"
   ]
  },
  {
   "cell_type": "code",
   "execution_count": 12,
   "metadata": {},
   "outputs": [
    {
     "data": {
      "text/plain": [
       "'Reformat snake case, camel Case and similarly formated text into individual words.'"
      ]
     },
     "execution_count": 12,
     "metadata": {},
     "output_type": "execute_result"
    }
   ],
   "source": [
    "ff.reCase(\"Reformat snake_case, camelCase and similarly-formated text into individual words.\")"
   ]
  },
  {
   "cell_type": "code",
   "execution_count": 13,
   "metadata": {},
   "outputs": [
    {
     "data": {
      "text/plain": [
       "'users1_name'"
      ]
     },
     "execution_count": 13,
     "metadata": {},
     "output_type": "execute_result"
    }
   ],
   "source": [
    "ff.regex_norm_field(\"your name\")"
   ]
  },
  {
   "cell_type": "code",
   "execution_count": 14,
   "metadata": {},
   "outputs": [
    {
     "data": {
      "text/plain": [
       "'variable_fill_name'"
      ]
     },
     "execution_count": 14,
     "metadata": {},
     "output_type": "execute_result"
    }
   ],
   "source": [
    "ff.reformat_field(\"this is a variable where you fill out your name\")"
   ]
  },
  {
   "cell_type": "code",
   "execution_count": 15,
   "metadata": {},
   "outputs": [
    {
     "data": {
      "text/plain": [
       "('*docket_number', 1.0)"
      ]
     },
     "execution_count": 15,
     "metadata": {},
     "output_type": "execute_result"
    }
   ],
   "source": [
    "ff.normalize_name(\"UT\",None,2,0.3,\"null\",\"Case Number\")"
   ]
  },
  {
   "cell_type": "code",
   "execution_count": 16,
   "metadata": {},
   "outputs": [
    {
     "data": {
      "text/plain": [
       "'Waiver of \\n Rights\\n \\n Approved Board of District Court Judges \\n December 17, 2010\\n \\n Revised \\n November 26\\n , 2019\\n \\n Page \\n 1\\n \\n of \\n 2\\n \\n \\n \\n \\n Name\\n \\n \\n \\n \\n Address\\n \\n \\n \\n \\n City, State, Zip\\n \\n \\n \\n \\n Phone\\n \\n \\n \\n Check your email. \\n You will receive information and \\n documents at this email address. \\n \\n \\n Email\\n \\n In the District Court of Utah\\n \\n _ __ __ __ Judicial District _ __ __ __ __ __ Count\\n y\\n \\n Court Address _ __ __ __ __ __ __ __ __ __ __ __ __ __ __ __ __ __ _\\n \\n In the Matter of the Adoption of\\n \\n _ __ __ __ __\\n _ __ __ __ __ __ __ __ _\\n \\n (\\n \\n ) \\n \\n Waiver \\n of Rights\\n \\n _ __ __ __ __ _\\n _ __ __ __ _\\n _ __\\n \\n Case Number\\n \\n _ __ __ __ __ _\\n _ __ __ __ _\\n _ __\\n \\n Jud\\n ge\\n \\n _ __ __ __ __ _\\n _ __ __ __ _\\n _ __\\n \\n Commissioner\\n \\n Do not sign this document without reading it. \\n Do not sign it unless everything \\n stated is true and correct. \\n If you have any questions, \\n talk with\\n \\n an attorney\\n . \\n \\n \\n \\n You have the right to be notified of hearings and \\n to be served with papers in this \\n matter. You have the right to intervene and oppose the adoption. \\n By signing this \\n document you are giving up \\n these\\n \\n rights\\n . \\n \\n \\n \\n If you \\n want to waive your rights\\n , complete this form, sign it, \\n and \\n return\\n \\n it \\n to the \\n Petitioner\\n . \\n \\n \\n \\n If yo\\n u \\n want to intervene and \\n oppose the adoption, \\n file a motion to intervene \\n with \\n this\\n \\n court\\n \\n within 30 days after the \\n Notice of Petition to Adopt\\n \\n was served on you. \\n \\n 1\\n . \\n \\n I make this statement free from \\n duress\\n . \\n \\n Waiver of \\n Rights\\n \\n Approved Board of District Court Judges \\n December 17, 2010\\n \\n Revised \\n November 26\\n , 2019\\n \\n Page \\n 2\\n \\n of \\n 2\\n \\n \\n 2\\n . \\n \\n I am the \\n adoptee\\n \\n \\n [ ] \\n Guardian\\n \\n without the right\\n \\n to consent to the adoption\\n \\n [ ] \\n Custodian\\n \\n [ ] \\n S\\n p\\n ouse\\n \\n 3\\n . \\n \\n I understand that\\n : \\n \\n \\n \\n I have the right to be notified of hearings and to be served with papers in this \\n matter. \\n \\n \\n \\n I have the right to intervene and oppose the adoption. \\n \\n \\n \\n By signing this document \\n I am\\n \\n givin\\n g up \\n these\\n \\n rights\\n . \\n \\n 4\\n . \\n \\n Understanding all of this, \\n I \\n voluntarily \\n waive my right to \\n be notified of hearings \\n and served with papers in this matter\\n , and\\n \\n I voluntarily waive my right to \\n intervene in this matter. \\n \\n Do not sign this document without reading it. \\n Do n\\n ot sign it unless everything \\n stated is true and correct. \\n If you have any questions, \\n talk with\\n \\n an attorney\\n . \\n \\n \\n \\n I declare under \\n criminal \\n penalty \\n under the law of Utah\\n \\n that everything stated \\n in this document is true\\n . \\n \\n Signed at _ __ __ __ __ __ __ __ __ __ __ _\\n _ __ __ __ __ __ __ _ (city, and state or country) . \\n \\n \\n Sign\\n atu\\n \\n \\n \\n Date\\n \\n Printed Name'"
      ]
     },
     "execution_count": 16,
     "metadata": {},
     "output_type": "execute_result"
    }
   ],
   "source": [
    "ff.read_pdf(\"Waiver_Rights.pdf\")"
   ]
  },
  {
   "cell_type": "code",
   "execution_count": 3,
   "metadata": {},
   "outputs": [
    {
     "data": {
      "text/plain": [
       "['HO-00-00-00-00', 'HO-02-00-00-00', 'HO-06-00-00-00', 'HO-05-00-00-00']"
      ]
     },
     "execution_count": 3,
     "metadata": {},
     "output_type": "execute_result"
    }
   ],
   "source": [
    "ff.spot(\"my landlord kicked me out\",verbose=0)"
   ]
  },
  {
   "cell_type": "code",
   "execution_count": 18,
   "metadata": {},
   "outputs": [
    {
     "data": {
      "text/plain": [
       "{'title': 'Waiver of',\n",
       " 'category': None,\n",
       " 'pages': 2,\n",
       " 'reading grade level': 7.5,\n",
       " 'list': [],\n",
       " 'avg fields per page': 0.0,\n",
       " 'fields': [],\n",
       " 'fields_conf': [],\n",
       " 'fields_old': [],\n",
       " 'text': 'Waiver of . Rights. . Approved Board of District Court Judges . December 17, 2010. . Revised . November 26. , 2019. . Page . 1. . of . 2. . . . . Name. . . . . Address. . . . . City, State, Zip. . . . . Phone. . . . Check your email. . You will receive information and . documents at this email address. . . . Email. . In the District Court of Utah. . Judicial District Count. y. . Court Address . . In the Matter of the Adoption of. . . . . (. . ) . . Waiver . of Rights. . . . . . Case Number. . . . . . Jud. ge. . . . . . Commissioner. . Do not sign this document without reading it. . Do not sign it unless everything . stated is true and correct. . If you have any questions, . talk with. . an attorney. . . . . . You have the right to be notified of hearings and . to be served with papers in this . matter. You have the right to intervene and oppose the adoption. . By signing this . document you are giving up . these. . rights. . . . . . If you . want to waive your rights. , complete this form, sign it, . and . return. . it . to the . Petitioner. . . . . . If yo. u . want to intervene and . oppose the adoption, . file a motion to intervene . with . this. . court. . within 30 days after the . Notice of Petition to Adopt. . was served on you. . . 1. . . . I make this statement free from . duress. . . . Waiver of . Rights. . Approved Board of District Court Judges . December 17, 2010. . Revised . November 26. , 2019. . Page . 2. . of . 2. . . 2. . . . I am the . adoptee. . . [ ] . Guardian. . without the right. . to consent to the adoption. . [ ] . Custodian. . [ ] . S. p. ouse. . 3. . . . I understand that. : . . . . I have the right to be notified of hearings and to be served with papers in this . matter. . . . . I have the right to intervene and oppose the adoption. . . . . By signing this document . I am. . givin. g up . these. . rights. . . . 4. . . . Understanding all of this, . I . voluntarily . waive my right to . be notified of hearings . and served with papers in this matter. , and. . I voluntarily waive my right to . intervene in this matter. . . Do not sign this document without reading it. . Do n. ot sign it unless everything . stated is true and correct. . If you have any questions, . talk with. . an attorney. . . . . . I declare under . criminal . penalty . under the law of Utah. . that everything stated . in this document is true. . . . Signed at . (city, and state or country) . . . . Sign. atu. . . . Date. . Printed Name'}"
      ]
     },
     "execution_count": 18,
     "metadata": {},
     "output_type": "execute_result"
    }
   ],
   "source": [
    "stats = ff.parse_form(\"Waiver_Rights.pdf\",title=None,jur=\"UT\",cat=None,normalize=0,use_spot=0,rewrite=0)\n",
    "stats"
   ]
  },
  {
   "cell_type": "code",
   "execution_count": 19,
   "metadata": {},
   "outputs": [
    {
     "data": {
      "text/plain": [
       "{'screen_0': ['users1_name',\n",
       "  'users1_birthdate',\n",
       "  'users1_address_line_one',\n",
       "  'users1_address_line_two',\n",
       "  'users1_address_city',\n",
       "  'users1_address_state',\n",
       "  'users1_address_zip',\n",
       "  'users1_phone_number',\n",
       "  'users1_email',\n",
       "  'users1_signature'],\n",
       " 'screen_1': ['plantiffs1_name',\n",
       "  'defendants1_name',\n",
       "  'petitioners1_name',\n",
       "  'respondents1_name'],\n",
       " 'screen_2': ['docket_number'],\n",
       " 'screen_3': ['trial_court_county'],\n",
       " 'screen_4': ['signature_date']}"
      ]
     },
     "execution_count": 19,
     "metadata": {},
     "output_type": "execute_result"
    }
   ],
   "source": [
    "fields= [\n",
    "        \"users1_name\",\n",
    "        \"users1_birthdate\",\n",
    "        \"users1_address_line_one\",\n",
    "        \"users1_address_line_two\",\n",
    "        \"users1_address_city\",\n",
    "        \"users1_address_state\",\n",
    "        \"users1_address_zip\",\n",
    "        \"users1_phone_number\",\n",
    "        \"users1_email\",\n",
    "        \"plantiffs1_name\",\n",
    "        \"defendants1_name\",\n",
    "        \"petitioners1_name\",\n",
    "        \"respondents1_name\",\n",
    "        \"docket_number\",\n",
    "        \"trial_court_county\",\n",
    "        \"users1_signature\",\n",
    "        \"signature_date\"\n",
    "        ]\n",
    "\n",
    "\n",
    "ff.cluster_screens(fields,damping=0.7)"
   ]
  },
  {
   "cell_type": "code",
   "execution_count": null,
   "metadata": {},
   "outputs": [],
   "source": []
  }
 ],
 "metadata": {
  "kernelspec": {
   "display_name": "Python 3",
   "language": "python",
   "name": "python3"
  },
  "language_info": {
   "codemirror_mode": {
    "name": "ipython",
    "version": 3
   },
   "file_extension": ".py",
   "mimetype": "text/x-python",
   "name": "python",
   "nbconvert_exporter": "python",
   "pygments_lexer": "ipython3",
   "version": "3.7.5"
  }
 },
 "nbformat": 4,
 "nbformat_minor": 5
}
