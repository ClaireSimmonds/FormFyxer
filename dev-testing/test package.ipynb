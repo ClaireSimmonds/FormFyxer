{
 "cells": [
  {
   "cell_type": "markdown",
   "id": "a4b03ce7",
   "metadata": {},
   "source": [
    "## Load local copy of package"
   ]
  },
  {
   "cell_type": "code",
   "execution_count": 8,
   "id": "10339cb6",
   "metadata": {},
   "outputs": [],
   "source": [
    "import sys\n",
    "\n",
    "sys.path.insert(0, \"../../formfyxer\")\n",
    "import formfyxer.lit_explorer as ff"
   ]
  },
  {
   "cell_type": "markdown",
   "id": "d03ccf52",
   "metadata": {},
   "source": [
    "## Or update and load published package"
   ]
  },
  {
   "cell_type": "code",
   "execution_count": null,
   "id": "cba69e39",
   "metadata": {
    "scrolled": true
   },
   "outputs": [],
   "source": [
    "!pip install git+https://github.com/SuffolkLITLab/FormFyxer"
   ]
  },
  {
   "cell_type": "code",
   "execution_count": null,
   "id": "49f405bd",
   "metadata": {},
   "outputs": [],
   "source": [
    "import formfyxer as ff"
   ]
  },
  {
   "cell_type": "markdown",
   "id": "9f501487",
   "metadata": {},
   "source": [
    "## Test functions"
   ]
  },
  {
   "cell_type": "code",
   "execution_count": 9,
   "id": "f1524626",
   "metadata": {},
   "outputs": [
    {
     "data": {
      "text/plain": [
       "'Reformat snake case, camel Case and similarly formated text into individual words.'"
      ]
     },
     "execution_count": 9,
     "metadata": {},
     "output_type": "execute_result"
    }
   ],
   "source": [
    "ff.re_case(\n",
    "    \"Reformat snake_case, camelCase and similarly-formated text into individual words.\"\n",
    ")"
   ]
  },
  {
   "cell_type": "code",
   "execution_count": 10,
   "id": "45ee2f7d",
   "metadata": {},
   "outputs": [
    {
     "data": {
      "text/plain": [
       "'users1_name'"
      ]
     },
     "execution_count": 10,
     "metadata": {},
     "output_type": "execute_result"
    }
   ],
   "source": [
    "ff.regex_norm_field(\"your name\")"
   ]
  },
  {
   "cell_type": "code",
   "execution_count": 11,
   "id": "8d056f9c",
   "metadata": {},
   "outputs": [
    {
     "data": {
      "text/plain": [
       "'variable_fill_name'"
      ]
     },
     "execution_count": 11,
     "metadata": {},
     "output_type": "execute_result"
    }
   ],
   "source": [
    "ff.reformat_field(\"this is a variable where you fill out your name\")"
   ]
  },
  {
   "cell_type": "code",
   "execution_count": 12,
   "id": "6bd4f593",
   "metadata": {},
   "outputs": [
    {
     "data": {
      "text/plain": [
       "('case_number', 0.31)"
      ]
     },
     "execution_count": 12,
     "metadata": {},
     "output_type": "execute_result"
    }
   ],
   "source": [
    "ff.normalize_name(\"UT\", None, 2, 0.3, \"null\", \"Case Number\")"
   ]
  },
  {
   "cell_type": "code",
   "execution_count": 18,
   "id": "30a1f1b6",
   "metadata": {},
   "outputs": [
    {
     "data": {
      "text/plain": [
       "\"Approved, SCAO\\n\\nSTATE OF MICHIGAN\\n\\nJUDICIAL CIRCUIT\\nCOUNTY\\n\\nOriginal - Court\\n1st copy - Moving party\\n2nd copy - Objecting party\\n\\n3rd copy - Friend of the court\\n4th copy - Proof of service\\n5th copy - Proof of service\\n\\nA\\n\\nCASE NO.\\n\\nOBJECTION TO PROPOSED ORDER\\n\\nCourt  address\\n\\nCourt  telephone  no.\\n\\nPlaintiff's name, address, and telephone no.\\n\\nmoving party\\n\\nDefendant's name, address, and telephone no.\\n\\nmoving party\\n\\nv\\n\\nThird party's name, address, and telephone no.\\n\\nmoving party\\n\\nI received a notice to enter a proposed order without a hearing dated\\nI object to the entry of the proposed order and request a hearing by the court.  My objection is based on the following reason(s):\\n\\nC\\n\\nB\\n\\nD\\n\\nE\\n\\nDate\\n\\nMoving party's signature\\n\\nName (type or print)\\n\\nCERTIFICATE OF MAILING\\n\\nI certify that on this date I served a copy of this objection on the parties or their attorneys by first-class mail addressed to their\\nlast-known addresses as defined in MCR 3.203.\\n\\nF\\n\\nDate\\n\\nSignature of objecting party\\n\\nFOC 78   (3/11)   OBJECTION TO PROPOSED ORDER\\n\\nMCR 2.602(B)\\n\\n\\x0c\""
      ]
     },
     "execution_count": 18,
     "metadata": {},
     "output_type": "execute_result"
    }
   ],
   "source": [
    "ff.extract_text(\"ML_training/auto/095b9dc651ce47eb8b62e0790974970f.pdf\")"
   ]
  },
  {
   "cell_type": "code",
   "execution_count": 19,
   "id": "98d71551",
   "metadata": {},
   "outputs": [
    {
     "data": {
      "text/plain": [
       "'Error'"
      ]
     },
     "execution_count": 19,
     "metadata": {},
     "output_type": "execute_result"
    }
   ],
   "source": [
    "ff.guess_form_name(\n",
    "    ff.extract_text(\"ML_training/auto/095b9dc651ce47eb8b62e0790974970f.pdf\")\n",
    ")"
   ]
  },
  {
   "cell_type": "code",
   "execution_count": 14,
   "id": "f6dc060a",
   "metadata": {
    "scrolled": true
   },
   "outputs": [
    {
     "data": {
      "text/plain": [
       "array([-5.26231120e-04,  2.24983986e-03, -8.35795340e-03,  4.02475413e-03,\n",
       "        3.44079169e-03, -3.62503832e-03,  4.91300346e-04, -1.02481993e-02,\n",
       "       -8.75018570e-05,  5.77801012e-02, -8.04772768e-03,  1.93668896e-03,\n",
       "        1.61031034e-03, -4.88554112e-03, -7.56827288e-03, -3.22198853e-04,\n",
       "        1.72684901e-03,  1.09334913e-02, -2.45365698e-03,  2.60785779e-03,\n",
       "        3.31795751e-03, -1.82501888e-03, -5.17577020e-04,  9.05366796e-04,\n",
       "       -1.88947119e-03, -1.41778216e-03, -2.19670966e-03, -2.33783632e-03,\n",
       "        1.00638480e-03, -6.26632172e-03, -5.01368841e-04,  7.08620072e-03,\n",
       "       -3.12600359e-03,  6.44426321e-03,  2.27485859e-04,  8.98271860e-04,\n",
       "       -2.61456956e-03, -6.52393141e-04, -1.24109763e-03, -3.89325497e-03,\n",
       "       -3.06367232e-03, -1.28471724e-03, -2.69054515e-03, -3.91209299e-03,\n",
       "        1.32449560e-03,  4.50141250e-03, -1.75082921e-03, -3.78464401e-03,\n",
       "        1.40550716e-03,  2.89970543e-03, -2.89665523e-03,  2.99134455e-03,\n",
       "       -4.17377978e-03,  2.69617527e-03, -1.59275456e-04, -7.83068891e-04,\n",
       "       -6.36623462e-04, -2.48208915e-03, -1.25590225e-03, -2.50187579e-04,\n",
       "       -2.05267708e-03, -2.68196150e-03, -4.38043172e-05,  4.18123381e-03,\n",
       "        6.31226077e-03, -3.65403513e-03,  2.65449648e-03,  2.05167042e-04,\n",
       "       -1.30922426e-03,  8.00734152e-03,  1.38796774e-03,  1.76862839e-03,\n",
       "        7.66475223e-03,  8.80032085e-04,  2.59798026e-03,  3.22615966e-03,\n",
       "        9.56395168e-03, -4.76434876e-03, -4.72719918e-03,  6.81382797e-03,\n",
       "       -4.05296658e-03,  8.91728523e-03, -4.68128831e-03, -5.16060328e-03,\n",
       "        1.66344554e-03,  2.91576202e-03,  7.22084550e-03, -5.06330498e-03,\n",
       "        1.33031214e-02,  4.79664028e-03, -1.07973688e-03,  3.88623763e-05,\n",
       "       -1.23686194e-04,  3.57764797e-04,  2.40055549e-03,  1.39446255e-03,\n",
       "        7.12260341e-03, -8.41163896e-04, -5.16814871e-04,  4.72550955e-03,\n",
       "        1.33025948e-03, -4.51154774e-03,  8.67997034e-05, -5.33963124e-03,\n",
       "       -2.16460094e-03, -1.51862293e-02,  5.61281296e-03,  4.78538005e-03,\n",
       "       -4.88630835e-03, -2.68976954e-03,  6.91397406e-04, -7.68237538e-03,\n",
       "        6.35172810e-03,  3.49582726e-04,  2.25623079e-03,  7.04172971e-04,\n",
       "        3.25000592e-03, -1.08145548e-03,  5.15488738e-03, -2.57177091e-04,\n",
       "        1.76189272e-03, -1.11836531e-04, -2.16169944e-04, -1.91144984e-03,\n",
       "        3.43246164e-03,  3.58958300e-03, -5.56801994e-03,  1.46526319e-04,\n",
       "       -3.65503599e-03,  1.21198749e-03, -4.71577666e-03,  1.32155107e-03,\n",
       "       -7.55368584e-03,  4.21072481e-04,  3.84473030e-03,  7.37876031e-04,\n",
       "        2.51003285e-03,  1.13599304e-02, -2.91033290e-03, -2.17953879e-03,\n",
       "       -4.48384314e-02, -2.55559416e-03,  1.27762248e-03,  3.16679245e-04,\n",
       "        1.73199350e-04,  1.50888037e-03, -4.79663957e-03,  5.17604744e-03,\n",
       "       -3.98579436e-03, -1.39384994e-03, -1.60889822e-03,  6.14265860e-03,\n",
       "        2.33297705e-04, -3.52656403e-04,  1.12852005e-03,  1.65170200e-03,\n",
       "       -1.63151391e-03, -6.32309832e-04,  1.19076047e-03, -3.06317795e-03,\n",
       "       -4.79622367e-03, -3.06260930e-04,  1.65514420e-03, -1.22830785e-03,\n",
       "       -3.04184669e-03, -4.55402836e-03,  3.88777805e-03,  2.00426727e-03,\n",
       "        2.14710762e-03,  1.68567815e-03, -6.47409360e-03, -6.46973133e-03,\n",
       "       -5.74770121e-05, -5.43416808e-03, -6.19798278e-03, -1.14207302e-04,\n",
       "       -1.01290520e-03,  9.50722038e-04, -4.10705805e-03,  4.52319444e-04,\n",
       "        4.62367242e-03, -5.16681711e-03, -3.19836917e-03,  2.15407870e-03,\n",
       "        2.97252097e-03,  1.56973282e-03, -3.55476436e-03,  1.62631717e-03,\n",
       "        2.02915202e-03,  2.61959652e-03, -3.41814925e-04,  1.05913682e-03,\n",
       "       -5.67106089e-03, -2.26600230e-04,  4.77448347e-04,  6.28645666e-03,\n",
       "       -1.01146419e-03, -6.35369059e-03,  1.65369797e-04, -9.55562091e-04,\n",
       "       -5.87664628e-03,  1.26514872e-03, -7.70650378e-03,  1.81958423e-03,\n",
       "        1.19041591e-03,  3.69227689e-03,  6.81289417e-03,  2.34441887e-04,\n",
       "        4.76372670e-03, -3.22644252e-03,  7.13130209e-04, -1.34127493e-03,\n",
       "        3.49982077e-03,  3.36139797e-03, -2.95230863e-03,  5.77470678e-03,\n",
       "       -1.91699363e-03, -1.58495209e-03, -1.37739101e-03,  2.91823707e-03,\n",
       "       -2.54773333e-03,  1.70074190e-03, -9.05261306e-04, -1.14740142e-03,\n",
       "        9.50051913e-04, -4.24206736e-03,  2.38089718e-04,  2.40279602e-03,\n",
       "       -1.33007275e-03, -5.04937888e-03, -3.60123558e-03,  9.58420218e-04,\n",
       "        3.30443339e-03,  1.58153860e-03,  4.72644728e-03, -3.60392571e-03,\n",
       "       -3.44693427e-04, -2.36716859e-03,  4.83650924e-03,  2.43589561e-03,\n",
       "        3.00392594e-03,  3.94615047e-03,  1.71704478e-03,  5.89554031e-03,\n",
       "        2.18071977e-03, -6.37284036e-03,  5.64066123e-03, -4.59186528e-03,\n",
       "       -1.58649190e-03,  6.56146175e-03, -1.04672343e-03, -6.28604576e-03,\n",
       "       -7.47575222e-04,  2.12077705e-03,  5.26619347e-03,  2.89095824e-03,\n",
       "       -1.62623299e-03, -5.51077501e-03, -9.67431517e-05,  3.44178292e-03,\n",
       "       -6.74005028e-03,  3.24305482e-03,  1.03411332e-03, -1.69642029e-03,\n",
       "        5.81055945e-03, -2.27511233e-03, -1.24854863e-03,  4.16209955e-04,\n",
       "       -9.86948252e-04, -3.47459984e-03,  8.35964266e-03,  1.90435018e-03,\n",
       "       -6.13537569e-04, -4.42874018e-03, -2.34987644e-03, -6.47533826e-04,\n",
       "       -5.74400109e-03, -3.98190719e-03,  1.23454575e-03,  4.60058269e-03,\n",
       "        1.13744318e-03, -1.43143558e-03, -3.46458480e-03,  1.70765680e-03,\n",
       "       -5.39483022e-03, -2.10772697e-03,  9.33664766e-03, -2.98427860e-03,\n",
       "       -6.75659472e-04, -3.30385404e-04, -3.49518099e-03,  1.54804617e-04,\n",
       "        2.41326119e-03,  4.88547941e-03,  2.49007910e-03, -2.13324702e-04,\n",
       "        5.94240817e-03,  4.13455749e-03,  1.64867480e-03, -1.49173268e-03])"
      ]
     },
     "execution_count": 14,
     "metadata": {},
     "output_type": "execute_result"
    }
   ],
   "source": [
    "ff.vectorize(\"my landlord kicked me out\", normalize=1)"
   ]
  },
  {
   "cell_type": "code",
   "execution_count": 15,
   "id": "eb52b221",
   "metadata": {},
   "outputs": [
    {
     "data": {
      "text/plain": [
       "{'status': 401, 'message': 'Unauthorized token'}"
      ]
     },
     "execution_count": 15,
     "metadata": {},
     "output_type": "execute_result"
    }
   ],
   "source": [
    "ff.spot(\"my landlord kicked me out\", verbose=0)"
   ]
  },
  {
   "cell_type": "code",
   "execution_count": 16,
   "id": "36f0c2f8",
   "metadata": {
    "scrolled": true
   },
   "outputs": [
    {
     "name": "stdout",
     "output_type": "stream",
     "text": [
      "Detecting Sentences...\n",
      "Starting to find passives...\n"
     ]
    },
    {
     "data": {
      "text/plain": [
       "{'title': '(Untitled)',\n",
       " 'category': None,\n",
       " 'pages': 1,\n",
       " 'reading grade level': 6.0,\n",
       " 'time to answer': (62.0, 68.0),\n",
       " 'list': {'status': 401, 'message': 'Unauthorized token'},\n",
       " 'avg fields per page': 18.0,\n",
       " 'fields': ['moving_party__1',\n",
       "  'moving_party__2',\n",
       "  'moving_party__3',\n",
       "  '*signature_date__1',\n",
       "  'name_type_print',\n",
       "  '*signature_date__2',\n",
       "  'cas_e',\n",
       "  'judge',\n",
       "  'circuit',\n",
       "  'county',\n",
       "  '*users1_address_line_one',\n",
       "  'telno',\n",
       "  'name_address_telephone__1',\n",
       "  'name_address_telephone__2',\n",
       "  'third_name_address_telephone',\n",
       "  'dated',\n",
       "  'reasons',\n",
       "  'form_instructions'],\n",
       " 'fields_conf': [0.53,\n",
       "  0.56,\n",
       "  0.55,\n",
       "  1.0,\n",
       "  0.62,\n",
       "  1.0,\n",
       "  0.64,\n",
       "  0.68,\n",
       "  0.58,\n",
       "  0.64,\n",
       "  1.0,\n",
       "  0.97,\n",
       "  0.52,\n",
       "  0.55,\n",
       "  0.48,\n",
       "  0.55,\n",
       "  0.53,\n",
       "  0.61],\n",
       " 'fields_old': ['moving party',\n",
       "  'moving party_2',\n",
       "  'moving party_3',\n",
       "  'Date',\n",
       "  'Name type or print',\n",
       "  'Date_2',\n",
       "  'CASE NO',\n",
       "  'judge',\n",
       "  'circuit',\n",
       "  'county',\n",
       "  'address',\n",
       "  'telno',\n",
       "  'Plaintiffs name address and telephone',\n",
       "  'Defendants name address and telephone',\n",
       "  'Third partys name address and telephone',\n",
       "  'dated',\n",
       "  'reasons',\n",
       "  'Form Instructions'],\n",
       " 'text': \"Approved, SCAO. STATE OF MICHIGAN. JUDICIAL CIRCUIT. COUNTY. Original Court. 1st copy Moving party. 2nd copy Objecting party. 3rd copy Friend of the court. 4th copy Proof of service. 5th copy Proof of service. A. CASE NO. OBJECTION TO PROPOSED ORDER. Court address. Court telephone no. Plaintiff's name, address, and telephone no. moving party. Defendant's name, address, and telephone no. moving party. v. Third party's name, address, and telephone no. moving party. I received a notice to enter a proposed order without a hearing dated. I object to the entry of the proposed order and request a hearing by the court. My objection is based on the following reason s. C. B. D. E. Date. Moving party's signature. Name type or print. CERTIFICATE OF MAILING. I certify that on this date I served a copy of this objection on the parties or their attorneys by first class mail addressed to their. last known addresses as defined in MCR 3.203. F. Date. Signature of objecting party. FOC 78 3 11 OBJECTION TO PROPOSED ORDER. MCR 2.602 B. \",\n",
       " 'original_text': \"Approved, SCAO\\n\\nSTATE OF MICHIGAN\\n\\nJUDICIAL CIRCUIT\\nCOUNTY\\n\\nOriginal - Court\\n1st copy - Moving party\\n2nd copy - Objecting party\\n\\n3rd copy - Friend of the court\\n4th copy - Proof of service\\n5th copy - Proof of service\\n\\nA\\n\\nCASE NO.\\n\\nOBJECTION TO PROPOSED ORDER\\n\\nCourt  address\\n\\nCourt  telephone  no.\\n\\nPlaintiff's name, address, and telephone no.\\n\\nmoving party\\n\\nDefendant's name, address, and telephone no.\\n\\nmoving party\\n\\nv\\n\\nThird party's name, address, and telephone no.\\n\\nmoving party\\n\\nI received a notice to enter a proposed order without a hearing dated\\nI object to the entry of the proposed order and request a hearing by the court.  My objection is based on the following reason(s):\\n\\nC\\n\\nB\\n\\nD\\n\\nE\\n\\nDate\\n\\nMoving party's signature\\n\\nName (type or print)\\n\\nCERTIFICATE OF MAILING\\n\\nI certify that on this date I served a copy of this objection on the parties or their attorneys by first-class mail addressed to their\\nlast-known addresses as defined in MCR 3.203.\\n\\nF\\n\\nDate\\n\\nSignature of objecting party\\n\\nFOC 78   (3/11)   OBJECTION TO PROPOSED ORDER\\n\\nMCR 2.602(B)\\n\\n\\x0c\",\n",
       " 'number of sentences': 33,\n",
       " 'number of passive voice sentences': 0,\n",
       " 'number of all caps words': 23,\n",
       " 'citations': []}"
      ]
     },
     "execution_count": 16,
     "metadata": {},
     "output_type": "execute_result"
    }
   ],
   "source": [
    "stats = ff.parse_form(\n",
    "    \"ML_training/auto/095b9dc651ce47eb8b62e0790974970f.pdf\",\n",
    "    title=None,\n",
    "    jur=\"UT\",\n",
    "    cat=None,\n",
    "    normalize=1,\n",
    "    use_spot=1,\n",
    "    rewrite=0,\n",
    ")\n",
    "stats"
   ]
  },
  {
   "cell_type": "code",
   "execution_count": 17,
   "id": "77fe2d8a",
   "metadata": {},
   "outputs": [
    {
     "data": {
      "text/plain": [
       "{'screen_0': ['users1_birthdate'],\n",
       " 'screen_1': ['users1_name',\n",
       "  'users1_address_line_one',\n",
       "  'users1_address_line_two',\n",
       "  'users1_address_city',\n",
       "  'users1_address_state',\n",
       "  'users1_address_zip',\n",
       "  'users1_phone_number',\n",
       "  'users1_email',\n",
       "  'plantiffs1_name',\n",
       "  'defendants1_name',\n",
       "  'petitioners1_name',\n",
       "  'respondents1_name'],\n",
       " 'screen_2': ['docket_number'],\n",
       " 'screen_3': ['trial_court_county'],\n",
       " 'screen_4': ['users1_signature', 'signature_date']}"
      ]
     },
     "execution_count": 17,
     "metadata": {},
     "output_type": "execute_result"
    }
   ],
   "source": [
    "fields = [\n",
    "    \"users1_name\",\n",
    "    \"users1_birthdate\",\n",
    "    \"users1_address_line_one\",\n",
    "    \"users1_address_line_two\",\n",
    "    \"users1_address_city\",\n",
    "    \"users1_address_state\",\n",
    "    \"users1_address_zip\",\n",
    "    \"users1_phone_number\",\n",
    "    \"users1_email\",\n",
    "    \"plantiffs1_name\",\n",
    "    \"defendants1_name\",\n",
    "    \"petitioners1_name\",\n",
    "    \"respondents1_name\",\n",
    "    \"docket_number\",\n",
    "    \"trial_court_county\",\n",
    "    \"users1_signature\",\n",
    "    \"signature_date\",\n",
    "]\n",
    "\n",
    "\n",
    "ff.cluster_screens(fields, damping=0.7)"
   ]
  },
  {
   "cell_type": "code",
   "execution_count": null,
   "id": "691429b5",
   "metadata": {},
   "outputs": [],
   "source": []
  }
 ],
 "metadata": {
  "kernelspec": {
   "display_name": "Python 3 (ipykernel)",
   "language": "python",
   "name": "python3"
  },
  "language_info": {
   "codemirror_mode": {
    "name": "ipython",
    "version": 3
   },
   "file_extension": ".py",
   "mimetype": "text/x-python",
   "name": "python",
   "nbconvert_exporter": "python",
   "pygments_lexer": "ipython3",
   "version": "3.8.12"
  }
 },
 "nbformat": 4,
 "nbformat_minor": 5
}
